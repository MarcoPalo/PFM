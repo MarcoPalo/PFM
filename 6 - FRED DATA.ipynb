{
 "cells": [
  {
   "cell_type": "markdown",
   "id": "59932cad",
   "metadata": {},
   "source": [
    "Con este código descargamos los datos de las variables económicas a través de FRED. Como es una API, requiere credenciales (todas las APIs utilizadas son gratuitas)."
   ]
  },
  {
   "cell_type": "markdown",
   "id": "99390a93",
   "metadata": {},
   "source": [
    "# Librerías"
   ]
  },
  {
   "cell_type": "code",
   "execution_count": 1,
   "id": "b6448b15",
   "metadata": {},
   "outputs": [],
   "source": [
    "import pandas as pd\n",
    "import numpy as np\n",
    "import fredpy as fp"
   ]
  },
  {
   "cell_type": "code",
   "execution_count": 2,
   "id": "c2248191",
   "metadata": {},
   "outputs": [
    {
     "name": "stdout",
     "output_type": "stream",
     "text": [
      "['append', 'clear', 'copy', 'count', 'extend', 'index', 'insert', 'pop', 'remove', 'reverse', 'sort']\n"
     ]
    }
   ],
   "source": [
    "names = lambda o: print([name for name in dir(o) if name[0] != \"_\"])\n",
    "names([])"
   ]
  },
  {
   "cell_type": "markdown",
   "id": "779010df",
   "metadata": {},
   "source": [
    "## Data de inflación"
   ]
  },
  {
   "cell_type": "code",
   "execution_count": 3,
   "id": "6ad8a413",
   "metadata": {},
   "outputs": [],
   "source": [
    "# FRED API Key\n",
    "fp.api_key = 'XXXXXX'"
   ]
  },
  {
   "cell_type": "code",
   "execution_count": 36,
   "id": "700487df",
   "metadata": {},
   "outputs": [
    {
     "name": "stdout",
     "output_type": "stream",
     "text": [
      "at OK\n",
      "No data for: au\n",
      "Still no data for: au\n",
      "be OK\n",
      "ca OK\n",
      "ch OK\n",
      "co OK\n",
      "de OK\n",
      "dk OK\n",
      "ee OK\n",
      "es OK\n",
      "fi OK\n",
      "fr OK\n",
      "gb OK\n",
      "gr OK\n",
      "hu OK\n",
      "ie OK\n",
      "is OK\n",
      "it OK\n",
      "No data for: lt\n",
      "lt fixed\n",
      "lu OK\n",
      "No data for: lva\n",
      "FRED API error: API limit exceeded in API query (status code: 429). Retry in 5 seconds.\n",
      "lva fixed\n",
      "mx OK\n",
      "nl OK\n",
      "no OK\n",
      "pl OK\n",
      "pt OK\n",
      "se OK\n",
      "sk OK\n",
      "tr OK\n",
      "us OK\n"
     ]
    }
   ],
   "source": [
    "column_names = ['date','value','region']\n",
    "inflation = pd.DataFrame(columns = column_names)\n",
    "\n",
    "region={'reg':['at','au','be','ca','ch','co','de','dk','ee','es','fi','fr','gb','gr','hu','ie','is','it','lt','lu','lva','mx',\n",
    "               'nl','no','pl','pt','se','sk','tr','us'],'fred':['at','au','be','ca','ch','cz','de','dk','ee','es','fi','fr',\n",
    "                                                                'gb','gr','hu','ie','is','it','ltu','lu','lva','mx','nl','no',\n",
    "                                                                'pl','pt','se','sk','tr','us']}\n",
    "region=pd.DataFrame(region)\n",
    "for i in range(len(region)):\n",
    "    try:\n",
    "        u = fp.series('CPALTT01'+region.loc[i,'fred'].upper()+'M657N').window(['2016-12-01','2021-10-01']).as_frequency(freq='M')\n",
    "        inf = pd.DataFrame(u.data)\n",
    "        inf.reset_index(inplace=True)\n",
    "        inf['region'] = region.loc[i,'reg']\n",
    "        inflation=pd.concat([inflation,inf],axis=0)\n",
    "        print(region.loc[i,'reg'] + ' OK')\n",
    "        #Con window elegimos las fechas de interés y con as_frequency la frecuencia (diaria, semanal, mensual, quarterly o anual)\n",
    "    except:\n",
    "        inf = [0]\n",
    "        print('No data for: '+ region.loc[i,'reg'])\n",
    "    if len(inf)<2:\n",
    "        try:\n",
    "            u = fp.series(region.loc[i,'fred'].upper()+'CPALTT01GPM').window(['2016-12-01','2021-10-01']).as_frequency(freq='M')\n",
    "            inf = pd.DataFrame(u.data)\n",
    "            inf.reset_index(inplace=True)\n",
    "            inf['region'] = region.loc[i,'reg']\n",
    "            inflation=pd.concat([inflation,inf],axis=0)\n",
    "            print(region.loc[i,'reg'] + ' fixed')\n",
    "        except:\n",
    "            print('Still no data for: '+ region.loc[i,'reg'])\n",
    "    del inf"
   ]
  },
  {
   "cell_type": "code",
   "execution_count": 42,
   "id": "1bab4aba",
   "metadata": {},
   "outputs": [],
   "source": [
    "inflation.reset_index(inplace=True)\n",
    "inflation.drop('index', axis=1, inplace=True)\n",
    "inflation.rename(columns = {'value':'inflation'},inplace=True)\n",
    "inflation"
   ]
  },
  {
   "cell_type": "code",
   "execution_count": null,
   "id": "1329d91c",
   "metadata": {},
   "outputs": [],
   "source": [
    "inflation.to_excel('./data/inflation.xlsx', index = False)"
   ]
  },
  {
   "cell_type": "markdown",
   "id": "84d5e6b8",
   "metadata": {},
   "source": [
    "## Data de interest rate"
   ]
  },
  {
   "cell_type": "code",
   "execution_count": 43,
   "id": "89a67bd4",
   "metadata": {},
   "outputs": [],
   "source": [
    "# FRED API Key\n",
    "fp.api_key = 'XXXXXXXX'"
   ]
  },
  {
   "cell_type": "code",
   "execution_count": 50,
   "id": "63f1cf05",
   "metadata": {},
   "outputs": [
    {
     "name": "stdout",
     "output_type": "stream",
     "text": [
      "at OK\n",
      "au OK\n",
      "be OK\n",
      "ca OK\n",
      "ch OK\n",
      "co OK\n",
      "de OK\n",
      "dk OK\n",
      "No data for: ee\n",
      "Still no data for: ee\n",
      "es OK\n",
      "fi OK\n",
      "fr OK\n",
      "gb OK\n",
      "gr OK\n",
      "hu OK\n",
      "ie OK\n",
      "is OK\n",
      "it OK\n",
      "No data for: lt\n",
      "lt fixed\n",
      "lu OK\n",
      "No data for: lva\n",
      "lva fixed\n",
      "mx OK\n",
      "nl OK\n",
      "no OK\n",
      "pl OK\n",
      "pt OK\n",
      "se OK\n",
      "FRED API error: API limit exceeded in API query (status code: 429). Retry in 5 seconds.\n",
      "FRED API error: API limit exceeded in API query (status code: 429). Retry in 6 seconds.\n",
      "FRED API error: API limit exceeded in API query (status code: 429). Retry in 7 seconds.\n",
      "sk OK\n",
      "No data for: tr\n",
      "Still no data for: tr\n",
      "us OK\n"
     ]
    }
   ],
   "source": [
    "column_names = ['date','value','region']\n",
    "interest = pd.DataFrame(columns = column_names)\n",
    "\n",
    "region={'reg':['at','au','be','ca','ch','co','de','dk','ee','es','fi','fr','gb','gr','hu','ie','is','it','lt','lu','lva','mx',\n",
    "               'nl','no','pl','pt','se','sk','tr','us'],'fred':['at','au','be','ca','ch','cz','de','dk','ee','es','fi','fr',\n",
    "                                                                'gb','gr','hu','ie','is','it','ltu','lu','lva','mx','nl','no',\n",
    "                                                                'pl','pt','se','sk','tr','us']}\n",
    "region=pd.DataFrame(region)\n",
    "for i in range(len(region)):\n",
    "    try:\n",
    "        u = fp.series('IRLTLT01'+region.loc[i,'fred'].upper()+'M156N').window(['2016-12-01','2021-10-01']).as_frequency(freq='M')\n",
    "        inter = pd.DataFrame(u.data)\n",
    "        inter.reset_index(inplace=True)\n",
    "        inter['region'] = region.loc[i,'reg']\n",
    "        interest=pd.concat([interest,inter],axis=0)\n",
    "        print(region.loc[i,'reg'] + ' OK')\n",
    "        #Con window elegimos las fechas de interés y con as_frequency la frecuencia (diaria, semanal, mensual, quarterly o anual)\n",
    "    except:\n",
    "        inter = [0]\n",
    "        print('No data for: '+ region.loc[i,'reg'])\n",
    "    if len(inter)<2:\n",
    "        try:\n",
    "            u = fp.series(region.loc[i,'fred'].upper()+'IRLTLT01STM').window(['2016-12-01','2021-10-01']).as_frequency(freq='M')\n",
    "            inter = pd.DataFrame(u.data)\n",
    "            inter.reset_index(inplace=True)\n",
    "            inter['region'] = region.loc[i,'reg']\n",
    "            interest=pd.concat([interest,inter],axis=0)\n",
    "            print(region.loc[i,'reg'] + ' fixed')\n",
    "        except:\n",
    "            print('Still no data for: '+ region.loc[i,'reg'])\n",
    "    del inter"
   ]
  },
  {
   "cell_type": "code",
   "execution_count": 51,
   "id": "f1402b98",
   "metadata": {},
   "outputs": [
    {
     "data": {
      "text/html": [
       "<div>\n",
       "<style scoped>\n",
       "    .dataframe tbody tr th:only-of-type {\n",
       "        vertical-align: middle;\n",
       "    }\n",
       "\n",
       "    .dataframe tbody tr th {\n",
       "        vertical-align: top;\n",
       "    }\n",
       "\n",
       "    .dataframe thead th {\n",
       "        text-align: right;\n",
       "    }\n",
       "</style>\n",
       "<table border=\"1\" class=\"dataframe\">\n",
       "  <thead>\n",
       "    <tr style=\"text-align: right;\">\n",
       "      <th></th>\n",
       "      <th>date</th>\n",
       "      <th>inflation</th>\n",
       "      <th>region</th>\n",
       "    </tr>\n",
       "  </thead>\n",
       "  <tbody>\n",
       "    <tr>\n",
       "      <th>0</th>\n",
       "      <td>2016-12-01</td>\n",
       "      <td>0.53445</td>\n",
       "      <td>at</td>\n",
       "    </tr>\n",
       "    <tr>\n",
       "      <th>1</th>\n",
       "      <td>2017-01-01</td>\n",
       "      <td>0.57045</td>\n",
       "      <td>at</td>\n",
       "    </tr>\n",
       "    <tr>\n",
       "      <th>2</th>\n",
       "      <td>2017-02-01</td>\n",
       "      <td>0.58985</td>\n",
       "      <td>at</td>\n",
       "    </tr>\n",
       "    <tr>\n",
       "      <th>3</th>\n",
       "      <td>2017-03-01</td>\n",
       "      <td>0.59235</td>\n",
       "      <td>at</td>\n",
       "    </tr>\n",
       "    <tr>\n",
       "      <th>4</th>\n",
       "      <td>2017-04-01</td>\n",
       "      <td>0.49030</td>\n",
       "      <td>at</td>\n",
       "    </tr>\n",
       "    <tr>\n",
       "      <th>...</th>\n",
       "      <td>...</td>\n",
       "      <td>...</td>\n",
       "      <td>...</td>\n",
       "    </tr>\n",
       "    <tr>\n",
       "      <th>1647</th>\n",
       "      <td>2021-06-01</td>\n",
       "      <td>1.52000</td>\n",
       "      <td>us</td>\n",
       "    </tr>\n",
       "    <tr>\n",
       "      <th>1648</th>\n",
       "      <td>2021-07-01</td>\n",
       "      <td>1.32000</td>\n",
       "      <td>us</td>\n",
       "    </tr>\n",
       "    <tr>\n",
       "      <th>1649</th>\n",
       "      <td>2021-08-01</td>\n",
       "      <td>1.28000</td>\n",
       "      <td>us</td>\n",
       "    </tr>\n",
       "    <tr>\n",
       "      <th>1650</th>\n",
       "      <td>2021-09-01</td>\n",
       "      <td>1.37000</td>\n",
       "      <td>us</td>\n",
       "    </tr>\n",
       "    <tr>\n",
       "      <th>1651</th>\n",
       "      <td>2021-10-01</td>\n",
       "      <td>1.58000</td>\n",
       "      <td>us</td>\n",
       "    </tr>\n",
       "  </tbody>\n",
       "</table>\n",
       "<p>1652 rows × 3 columns</p>\n",
       "</div>"
      ],
      "text/plain": [
       "           date  inflation region\n",
       "0    2016-12-01    0.53445     at\n",
       "1    2017-01-01    0.57045     at\n",
       "2    2017-02-01    0.58985     at\n",
       "3    2017-03-01    0.59235     at\n",
       "4    2017-04-01    0.49030     at\n",
       "...         ...        ...    ...\n",
       "1647 2021-06-01    1.52000     us\n",
       "1648 2021-07-01    1.32000     us\n",
       "1649 2021-08-01    1.28000     us\n",
       "1650 2021-09-01    1.37000     us\n",
       "1651 2021-10-01    1.58000     us\n",
       "\n",
       "[1652 rows x 3 columns]"
      ]
     },
     "execution_count": 51,
     "metadata": {},
     "output_type": "execute_result"
    }
   ],
   "source": [
    "interest.reset_index(inplace=True)\n",
    "interest.drop('index', axis=1, inplace=True)\n",
    "interest.rename(columns = {'value':'inflation'},inplace=True)\n",
    "interest"
   ]
  },
  {
   "cell_type": "code",
   "execution_count": 52,
   "id": "c777898a",
   "metadata": {},
   "outputs": [],
   "source": [
    "interest.to_excel('./data/interest.xlsx', index = False)"
   ]
  },
  {
   "cell_type": "code",
   "execution_count": null,
   "id": "f9e80a92",
   "metadata": {},
   "outputs": [],
   "source": []
  }
 ],
 "metadata": {
  "kernelspec": {
   "display_name": "Python 3",
   "language": "python",
   "name": "python3"
  },
  "language_info": {
   "codemirror_mode": {
    "name": "ipython",
    "version": 3
   },
   "file_extension": ".py",
   "mimetype": "text/x-python",
   "name": "python",
   "nbconvert_exporter": "python",
   "pygments_lexer": "ipython3",
   "version": "3.8.8"
  }
 },
 "nbformat": 4,
 "nbformat_minor": 5
}
